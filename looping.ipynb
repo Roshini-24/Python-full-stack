{
 "cells": [
  {
   "cell_type": "markdown",
   "metadata": {},
   "source": [
    "While loop \n",
    "\n",
    "steps : 1. firstly the condition in the while is checked if it is true then the statement inside will be excecuted\n",
    "        2. then after execution the increment or decrement of the data takes place\n",
    "        3. Next again the loop will start and start the execution after checking the condition\n",
    "        4. If the while condition is not satisfied or the condition becomes false then the loop is terminated and the control goes to the next line after the loop "
   ]
  },
  {
   "cell_type": "code",
   "execution_count": 1,
   "metadata": {},
   "outputs": [
    {
     "name": "stdout",
     "output_type": "stream",
     "text": [
      "hello\n",
      "hello\n",
      "hello\n",
      "hello\n",
      "hello\n",
      "hello\n",
      "hello\n",
      "hello\n",
      "hello\n",
      "hello\n",
      "hello\n",
      "hello\n",
      "hello\n",
      "hello\n",
      "hello\n"
     ]
    }
   ],
   "source": [
    "# 1.print hello 15 times\n",
    "i=1\n",
    "while i<16:\n",
    "    print(\"hello\")\n",
    "    i+=1"
   ]
  },
  {
   "cell_type": "markdown",
   "metadata": {},
   "source": [
    "i=1<16 --->true -----> hello  ----->i+=1\n",
    "i=2<16 --->true -----> hello  ----->i+=1\n",
    "i=3<16 --->true -----> hello  ----->i+=1\n",
    "i=4<16 --->true -----> hello  ----->i+=1\n",
    "i=5<16 --->true -----> hello  ----->i+=1\n",
    "i=6<16 --->true -----> hello  ----->i+=1\n",
    "i=7<16 --->true -----> hello  ----->i+=1\n",
    "i=8<16 --->true -----> hello  ----->i+=1\n",
    "i=9<16 --->true -----> hello  ----->i+=1\n",
    "i=10<16 --->true -----> hello  ----->i+=1\n",
    "i=11<16 --->true -----> hello  ----->i+=1\n",
    "i=12<16 --->true -----> hello  ----->i+=1\n",
    "i=13<16 --->true -----> hello  ----->i+=1\n",
    "i=14<16 --->true -----> hello  ----->i+=1\n",
    "i=15<16 --->true -----> hello  ----->i+=1\n",
    "i=16<16 --->false -----> out of the loop"
   ]
  },
  {
   "cell_type": "code",
   "execution_count": 2,
   "metadata": {},
   "outputs": [
    {
     "name": "stdout",
     "output_type": "stream",
     "text": [
      "15\n",
      "14\n",
      "13\n",
      "12\n",
      "11\n",
      "10\n",
      "9\n",
      "8\n",
      "7\n",
      "6\n",
      "5\n",
      "4\n",
      "3\n",
      "2\n",
      "1\n"
     ]
    }
   ],
   "source": [
    "# 2. print 15 to 1 numbers\n",
    "i=15\n",
    "while i>0:\n",
    "    print(i)\n",
    "    i-=1"
   ]
  },
  {
   "cell_type": "markdown",
   "metadata": {},
   "source": [
    "i=15>0 ---->true ----> print 15 ---->i-=1\n",
    "i=14>0 ---->true ----> print 14 ---->i-=1\n",
    "i=13>0 ---->true ----> print 13 ---->i-=1\n",
    "i=12>0 ---->true ----> print 12 ---->i-=1\n",
    "i=11>0 ---->true ----> print 11 ---->i-=1\n",
    "i=10>0 ---->true ----> print 10 ---->i-=1\n",
    "i=9>0 ---->true ----> print 9 ---->i-=1\n",
    "i=8>0 ---->true ----> print 8 ---->i-=1\n",
    "i=7>0 ---->true ----> print 7 ---->i-=1\n",
    "i=6>0 ---->true ----> print 6 ---->i-=1\n",
    "i=5>0 ---->true ----> print 5 ---->i-=1\n",
    "i=4>0 ---->true ----> print 4 ---->i-=1\n",
    "i=3>0 ---->true ----> print 3 ---->i-=1\n",
    "i=2>0 ---->true ----> print 2 ---->i-=1\n",
    "i=1>0 ---->true ----> print 1 ---->i-=1\n",
    "i=0>0 ---->false ----->come out of loop\n"
   ]
  },
  {
   "cell_type": "code",
   "execution_count": 8,
   "metadata": {},
   "outputs": [
    {
     "name": "stdout",
     "output_type": "stream",
     "text": [
      "15\n"
     ]
    }
   ],
   "source": [
    "# 3. print number from 10 to 25 which are divisible by 3 and 5\n",
    "i=10\n",
    "while i<20:\n",
    "    if i%3==0 and i%5==0:\n",
    "        print(i)\n",
    "    i+=1    "
   ]
  },
  {
   "cell_type": "markdown",
   "metadata": {},
   "source": [
    "i=10<20 -----> true -----> 10%3  and 10%5 ----->false -----> i+=1\n",
    "i=11<20 -----> true -----> 10%3  and 10%5 ----->false -----> i+=1\n",
    "i=12<21 -----> true -----> 10%3  and 10%5 ----->false -----> i+=1\n",
    "i=13<20 -----> true -----> 10%3  and 10%5 ----->false -----> i+=1\n",
    "i=14<20 -----> true -----> 10%3  and 10%5 ----->false -----> i+=1\n",
    "\n",
    "i=15<20 -----> true -----> 10%3  and 10%5 ----->true ----> print 15 ----->i+=1\n",
    "\n",
    "i=16<20 -----> true -----> 10%3  and 10%5 ----->false -----> i+=1\n",
    "i=17<20 -----> true -----> 10%3  and 10%5 ----->false -----> i+=1\n",
    "i=18<20 -----> true -----> 10%3  and 10%5 ----->false -----> i+=1\n",
    "i=19<20 -----> true -----> 10%3  and 10%5 ----->false -----> i+=1\n",
    "\n",
    "i=20<20 -----> false"
   ]
  },
  {
   "cell_type": "code",
   "execution_count": 9,
   "metadata": {},
   "outputs": [
    {
     "name": "stdout",
     "output_type": "stream",
     "text": [
      "-11\n",
      "-12\n",
      "-13\n",
      "-14\n",
      "-15\n",
      "-16\n",
      "-17\n",
      "-18\n",
      "-19\n",
      "-20\n"
     ]
    }
   ],
   "source": [
    "# 4. print second 10 negative natural numbers\n",
    "i=-11\n",
    "while i>-21:\n",
    "    print(i)\n",
    "    i-=1"
   ]
  },
  {
   "cell_type": "markdown",
   "metadata": {},
   "source": [
    "i= -11>-21 ----->true ------>print -11 ----->i-=1\n",
    "i= -12>-21 ----->true ------>print -12 ----->i-=1\n",
    "i= -13>-21 ----->true ------>print -13 ----->i-=1\n",
    "i= -14>-21 ----->true ------>print -14 ----->i-=1\n",
    "i= -15>-21 ----->true ------>print -15 ----->i-=1\n",
    "i= -16>-21 ----->true ------>print -16 ----->i-=1\n",
    "i= -17>-21 ----->true ------>print -17 ----->i-=1\n",
    "i= -18>-21 ----->true ------>print -18 ----->i-=1\n",
    "i= -19>-21 ----->true ------>print -19 ----->i-=1\n",
    "i= -20>-21 ----->true ------>print -20 ----->i-=1\n",
    "i= -21>-21 ----->false\n"
   ]
  },
  {
   "cell_type": "code",
   "execution_count": 10,
   "metadata": {},
   "outputs": [
    {
     "name": "stdout",
     "output_type": "stream",
     "text": [
      "2\n",
      "4\n",
      "6\n"
     ]
    }
   ],
   "source": [
    "# 5. print first 3 even numbers from 1 to 15\n",
    "i=1\n",
    "j=1\n",
    "while (i<16 and j<4):\n",
    "    if i%2==0:\n",
    "        print(i)\n",
    "        j+=1\n",
    "    i+=1"
   ]
  },
  {
   "cell_type": "markdown",
   "metadata": {},
   "source": [
    "i=1 ,j=1 --->1<16 and 1<4 ----> true ----->1 %2==0 --->false -----> i+=1\n",
    "\n",
    "i=2 ,j=1 --->2<16 and 1<4 ----> true ----->2 %2==0 --->true ----->print 2 -----> j+=1, i+=1\n",
    "\n",
    "i=3 ,j=2 --->3<16 and 2<4 ----> true ----->3 %2==0 --->false -----> i+=1\n",
    "\n",
    "i=4 ,j=2 --->4<16 and 2<4 ----> true ----->4 %2==0 --->true ----->print 4 -----> j+=1, i+=1\n",
    "\n",
    "i=5 ,j=3 --->5<16 and 3<4 ----> true ----->5 %2==0 --->false -----> i+=1\n",
    "\n",
    "i=6 ,j=3 --->6<16 and 3<4 ----> true ----->6 %2==0 --->true ----->print 6 -----> j+=1, i+=1\n",
    "\n",
    "i=7 ,j=4 --->7<16 and 4<4 ----> false -----> come out of the loop"
   ]
  },
  {
   "cell_type": "code",
   "execution_count": 11,
   "metadata": {},
   "outputs": [
    {
     "name": "stdout",
     "output_type": "stream",
     "text": [
      "15\n",
      "13\n",
      "11\n",
      "9\n",
      "7\n"
     ]
    }
   ],
   "source": [
    "# 6. print last 5 odd numbers from 1 to 15\n",
    "i=15\n",
    "j=1\n",
    "while (i>0 and j<6):\n",
    "    if i%2==1:\n",
    "        print(i)\n",
    "        j+=1\n",
    "    i-=1"
   ]
  },
  {
   "cell_type": "markdown",
   "metadata": {},
   "source": [
    "i=15 ,j=1 -------> 15>0 and 1<6 ----->true -----> 15%2==1 ------>true ----->print 15 ----->j+=1, i-=1\n",
    "\n",
    "i=14, j=2 -------> 14>0 and 2<6 ----->true -----> 14%2==1 ------->false ------>i-=1\n",
    "\n",
    "i=13 ,j=2 -------> 13>0 and 2<6 ----->true -----> 13%2==1 ------>true ----->print 13 ----->j+=1, i-=1\n",
    "\n",
    "i=12, j=3 -------> 12>0 and 3<6 ----->true -----> 12%2==1 ------->false ------>i-=1\n",
    "\n",
    "i=11 ,j=3 -------> 11>0 and 3<6 ----->true -----> 11%2==1 ------>true ----->print 11 ----->j+=1, i-=1\n",
    "\n",
    "i=10, j=4 -------> 10>0 and 4<6 ----->true -----> 10%2==1 ------->false ------>i-=1\n",
    "\n",
    "i=9 , j=4 -------> 9>0 and 4<6 ----->true -----> 9%2==1 ------>true ----->print 9 ----->j+=1, i-=1\n",
    "\n",
    "i=8 , j=5 -------> 8>0 and 5<6 ----->true -----> 8%2==1 ------->false ------>i-=1\n",
    "\n",
    "i=7 , j=5 -------> 7>0 and 5<6 ----->true -----> 7%2==1 ------>true ----->print 7 ----->j+=1, i-=1\n",
    "\n",
    "i=6 , j=6 -------> 6>0 and 6<6 ----->false ------>come out of loop"
   ]
  },
  {
   "cell_type": "code",
   "execution_count": 5,
   "metadata": {},
   "outputs": [
    {
     "name": "stdout",
     "output_type": "stream",
     "text": [
      "prime\n"
     ]
    }
   ],
   "source": [
    "#prime number\n",
    "n=int(input())\n",
    "i=1\n",
    "c=0\n",
    "while i<=n:\n",
    "    if n%i==0:\n",
    "        c+=1\n",
    "    i+=1\n",
    "if c==2:\n",
    "    print(\"prime\")\n",
    "else:\n",
    "    print(\"Not\")"
   ]
  },
  {
   "cell_type": "code",
   "execution_count": 6,
   "metadata": {},
   "outputs": [
    {
     "name": "stdout",
     "output_type": "stream",
     "text": [
      "2 factorial is 2\n",
      "3 factorial is 6\n",
      "8 is the sum\n"
     ]
    }
   ],
   "source": [
    "n=32\n",
    "s=0\n",
    "while n>0:\n",
    "    di=n%10\n",
    "    f=1\n",
    "    i=1\n",
    "    while i<=di:\n",
    "        f=f*i\n",
    "        i+=1\n",
    "    print(di,\"factorial is\",f)\n",
    "    s=s+f\n",
    "    n=n//10\n",
    "print(s,\"is the sum\")"
   ]
  }
 ],
 "metadata": {
  "kernelspec": {
   "display_name": "Python 3",
   "language": "python",
   "name": "python3"
  },
  "language_info": {
   "codemirror_mode": {
    "name": "ipython",
    "version": 3
   },
   "file_extension": ".py",
   "mimetype": "text/x-python",
   "name": "python",
   "nbconvert_exporter": "python",
   "pygments_lexer": "ipython3",
   "version": "3.12.1"
  }
 },
 "nbformat": 4,
 "nbformat_minor": 2
}
