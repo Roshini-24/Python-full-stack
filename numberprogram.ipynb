{
 "cells": [
  {
   "cell_type": "code",
   "execution_count": 9,
   "metadata": {},
   "outputs": [
    {
     "name": "stdout",
     "output_type": "stream",
     "text": [
      "9\n",
      "Harshad\n"
     ]
    }
   ],
   "source": [
    "#sum of digits is the divisor of the number\n",
    "n=int(input())\n",
    "n1=n\n",
    "s=0\n",
    "while n>0:\n",
    "    di=n%10\n",
    "    s=s+di\n",
    "    n=n//10\n",
    "print(s)\n",
    "if (n1%s == 0):\n",
    "    print(\"Harshad\")\n",
    "else:\n",
    "    print(\"Not harshad\")\n"
   ]
  },
  {
   "cell_type": "code",
   "execution_count": 15,
   "metadata": {},
   "outputs": [
    {
     "name": "stdout",
     "output_type": "stream",
     "text": [
      "{4: 1, 3: 1, 2: 2, 1: 1}\n"
     ]
    }
   ],
   "source": [
    "#max occurance\n",
    "n=12234\n",
    "d=dict()\n",
    "while n>0:\n",
    "    di=n%10\n",
    "    if di in d:\n",
    "        d[di]=d[di]+1\n",
    "    else:\n",
    "        d[di]=1\n",
    "    n=n//10    \n",
    "print(d)\n"
   ]
  },
  {
   "cell_type": "code",
   "execution_count": 16,
   "metadata": {},
   "outputs": [
    {
     "name": "stdout",
     "output_type": "stream",
     "text": [
      "4\n"
     ]
    }
   ],
   "source": [
    "n=11234\n",
    "l=list()\n",
    "while n>0:\n",
    "    di=n%10\n",
    "    l.append(di)\n",
    "    n=n//10\n",
    "print(max(l))\n",
    "    "
   ]
  },
  {
   "cell_type": "code",
   "execution_count": 19,
   "metadata": {},
   "outputs": [
    {
     "name": "stdout",
     "output_type": "stream",
     "text": [
      "5\n"
     ]
    }
   ],
   "source": [
    "n=11234\n",
    "l=list()\n",
    "while n>0:\n",
    "    di=n%10\n",
    "    l.append(di)\n",
    "    n=n//10\n",
    "print(l[0]+l[-1])"
   ]
  }
 ],
 "metadata": {
  "kernelspec": {
   "display_name": "Python 3",
   "language": "python",
   "name": "python3"
  },
  "language_info": {
   "codemirror_mode": {
    "name": "ipython",
    "version": 3
   },
   "file_extension": ".py",
   "mimetype": "text/x-python",
   "name": "python",
   "nbconvert_exporter": "python",
   "pygments_lexer": "ipython3",
   "version": "3.12.1"
  }
 },
 "nbformat": 4,
 "nbformat_minor": 2
}
