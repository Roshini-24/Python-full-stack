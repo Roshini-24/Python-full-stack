{
 "cells": [
  {
   "cell_type": "code",
   "execution_count": 9,
   "metadata": {},
   "outputs": [
    {
     "name": "stdout",
     "output_type": "stream",
     "text": [
      "9\n",
      "Harshad\n"
     ]
    }
   ],
   "source": [
    "#sum of digits is the divisor of the number\n",
    "n=int(input())\n",
    "n1=n\n",
    "s=0\n",
    "while n>0:\n",
    "    di=n%10\n",
    "    s=s+di\n",
    "    n=n//10\n",
    "print(s)\n",
    "if (n1%s == 0):\n",
    "    print(\"Harshad\")\n",
    "else:\n",
    "    print(\"Not harshad\")\n"
   ]
  }
 ],
 "metadata": {
  "kernelspec": {
   "display_name": "Python 3",
   "language": "python",
   "name": "python3"
  },
  "language_info": {
   "codemirror_mode": {
    "name": "ipython",
    "version": 3
   },
   "file_extension": ".py",
   "mimetype": "text/x-python",
   "name": "python",
   "nbconvert_exporter": "python",
   "pygments_lexer": "ipython3",
   "version": "3.12.1"
  }
 },
 "nbformat": 4,
 "nbformat_minor": 2
}
