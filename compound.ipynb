{
 "cells": [
  {
   "cell_type": "code",
   "execution_count": 5,
   "metadata": {},
   "outputs": [
    {
     "name": "stdout",
     "output_type": "stream",
     "text": [
      "41\n",
      "38\n",
      "152\n",
      "12332795428864\n",
      "1233279542886\n",
      "61663977144.3\n",
      "4.3000030517578125\n"
     ]
    }
   ],
   "source": [
    "a=40\n",
    "a+=1\n",
    "print(a)\n",
    "a-=3\n",
    "print(a)\n",
    "a*=4\n",
    "print(a)\n",
    "a**=6\n",
    "print(a)\n",
    "a//=10\n",
    "print(a)\n",
    "a/=20\n",
    "print(a)\n",
    "a%=5\n",
    "print(a)"
   ]
  }
 ],
 "metadata": {
  "kernelspec": {
   "display_name": "Python 3",
   "language": "python",
   "name": "python3"
  },
  "language_info": {
   "codemirror_mode": {
    "name": "ipython",
    "version": 3
   },
   "file_extension": ".py",
   "mimetype": "text/x-python",
   "name": "python",
   "nbconvert_exporter": "python",
   "pygments_lexer": "ipython3",
   "version": "3.12.1"
  }
 },
 "nbformat": 4,
 "nbformat_minor": 2
}
