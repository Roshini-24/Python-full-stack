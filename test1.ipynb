{
 "cells": [
  {
   "cell_type": "code",
   "execution_count": 1,
   "metadata": {},
   "outputs": [
    {
     "name": "stdout",
     "output_type": "stream",
     "text": [
      "True\n"
     ]
    }
   ],
   "source": [
    "l=[1,2,3,\"hi\"]\n",
    "t=[1,2,3]\n",
    "print(l>t)"
   ]
  },
  {
   "cell_type": "markdown",
   "metadata": {},
   "source": [
    "check wheather string first and last character ascii value are same if yes then check the last second character ascii value is between 90 to 100 inclusive"
   ]
  },
  {
   "cell_type": "code",
   "execution_count": 4,
   "metadata": {},
   "outputs": [
    {
     "name": "stdout",
     "output_type": "stream",
     "text": [
      "Not Equal\n"
     ]
    }
   ],
   "source": [
    "i=\"hello\"\n",
    "if (ord(i[0])==ord(i[-1])):\n",
    "    if (ord(i[-2])>=90 and ord(i[-2])<=100):\n",
    "        print(\"Yes\")\n",
    "    else:\n",
    "        print(\"No\")\n",
    "else:\n",
    "    print(\"Not Equal\")"
   ]
  },
  {
   "cell_type": "markdown",
   "metadata": {},
   "source": [
    "ascii value of length of string is even or odd"
   ]
  },
  {
   "cell_type": "code",
   "execution_count": 5,
   "metadata": {},
   "outputs": [
    {
     "name": "stdout",
     "output_type": "stream",
     "text": [
      "Odd\n"
     ]
    }
   ],
   "source": [
    "n=\"Hello\"\n",
    "a1=len(n)\n",
    "a2=str(a1)\n",
    "if ord(a2)%2==0:\n",
    "    print(\"Even\")\n",
    "else:\n",
    "    print(\"Odd\")\n"
   ]
  },
  {
   "cell_type": "markdown",
   "metadata": {},
   "source": [
    "to check wheather ascii value of mid charcater of a string is equal  to the ascii value of the length of the given string"
   ]
  },
  {
   "cell_type": "code",
   "execution_count": 2,
   "metadata": {},
   "outputs": [
    {
     "name": "stdout",
     "output_type": "stream",
     "text": [
      "not same\n"
     ]
    }
   ],
   "source": [
    "n=\"Roshini\"\n",
    "m=len(n)//2\n",
    "a1=len(n)\n",
    "a2=str(a1)\n",
    "if (ord(n[m])==ord(a2)):\n",
    "    print(\"Same\")\n",
    "else:\n",
    "    print(\"not same\")\n"
   ]
  }
 ],
 "metadata": {
  "kernelspec": {
   "display_name": "Python 3",
   "language": "python",
   "name": "python3"
  },
  "language_info": {
   "codemirror_mode": {
    "name": "ipython",
    "version": 3
   },
   "file_extension": ".py",
   "mimetype": "text/x-python",
   "name": "python",
   "nbconvert_exporter": "python",
   "pygments_lexer": "ipython3",
   "version": "3.12.1"
  }
 },
 "nbformat": 4,
 "nbformat_minor": 2
}
