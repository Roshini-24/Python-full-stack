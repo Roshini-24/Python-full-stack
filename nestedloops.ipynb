{
 "cells": [
  {
   "cell_type": "code",
   "execution_count": 16,
   "metadata": {},
   "outputs": [
    {
     "name": "stdout",
     "output_type": "stream",
     "text": [
      "[]\n"
     ]
    }
   ],
   "source": [
    "#156\n",
    "n=\"haii how are you venu\"\n",
    "res=[]\n",
    "i=0\n",
    "while i<len(n):\n",
    "    j=0\n",
    "    r=\"\"\n",
    "    while n[j]!=\" \":\n",
    "        r=r+n[j]\n",
    "        j=j+1\n",
    "\n",
    "print(res)\n"
   ]
  },
  {
   "cell_type": "code",
   "execution_count": 19,
   "metadata": {},
   "outputs": [
    {
     "name": "stdout",
     "output_type": "stream",
     "text": [
      "how\n"
     ]
    }
   ],
   "source": [
    "n=\"how are you venu\"\n",
    "res=[]\n",
    "j=0\n",
    "r=\"\"\n",
    "while n[j]!=\" \":\n",
    "    r=r+n[j]\n",
    "    j=j+1\n",
    "\n",
    "print(r)"
   ]
  }
 ],
 "metadata": {
  "kernelspec": {
   "display_name": "Python 3",
   "language": "python",
   "name": "python3"
  },
  "language_info": {
   "codemirror_mode": {
    "name": "ipython",
    "version": 3
   },
   "file_extension": ".py",
   "mimetype": "text/x-python",
   "name": "python",
   "nbconvert_exporter": "python",
   "pygments_lexer": "ipython3",
   "version": "3.12.1"
  }
 },
 "nbformat": 4,
 "nbformat_minor": 2
}
