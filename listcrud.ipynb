{
 "cells": [
  {
   "cell_type": "code",
   "execution_count": 4,
   "metadata": {},
   "outputs": [
    {
     "name": "stdout",
     "output_type": "stream",
     "text": [
      "1\n",
      "[1, 3, 4, 6, 0]\n",
      "[1, 3, 4, 6, 0, 20]\n",
      "[6, 7, 8]\n",
      "[6, 8]\n"
     ]
    }
   ],
   "source": [
    "l=[1,3,4,6,7]\n",
    "print(l[0])\n",
    "l[4]=0\n",
    "print(l)\n",
    "l+=[20]\n",
    "print(l)\n",
    "i=[6,7,8]\n",
    "print(i)\n",
    "del i[1]\n",
    "print(i)\n",
    "del i\n"
   ]
  }
 ],
 "metadata": {
  "kernelspec": {
   "display_name": "Python 3",
   "language": "python",
   "name": "python3"
  },
  "language_info": {
   "codemirror_mode": {
    "name": "ipython",
    "version": 3
   },
   "file_extension": ".py",
   "mimetype": "text/x-python",
   "name": "python",
   "nbconvert_exporter": "python",
   "pygments_lexer": "ipython3",
   "version": "3.12.1"
  }
 },
 "nbformat": 4,
 "nbformat_minor": 2
}
