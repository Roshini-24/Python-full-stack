{
 "cells": [
  {
   "cell_type": "markdown",
   "metadata": {},
   "source": [
    "sciling - retrieving multiple data at once from a collection is called slicing."
   ]
  },
  {
   "cell_type": "code",
   "execution_count": 2,
   "metadata": {},
   "outputs": [
    {
     "name": "stdout",
     "output_type": "stream",
     "text": [
      "[1, 2]\n",
      "[3, 'jack sparrow']\n",
      "wayne\n",
      "City\n",
      "['manchestor City', 'wayne Rooney']\n",
      "[3, 2, 1]\n",
      "['wayne Rooney', 3, 1]\n",
      "['manchestor City', 'jack sparrow']\n",
      "spa\n",
      "Roo\n",
      "ytiC\n",
      "jack\n",
      "jk\n",
      "Roe\n",
      "sarw\n",
      "worraps kcaj\n"
     ]
    }
   ],
   "source": [
    "l=[1,2,3,\"jack sparrow\", \"wayne Rooney\", \"manchestor City\"]\n",
    "print(l[0:2])\n",
    "print(l[2:4])\n",
    "print(l[4][0:5])\n",
    "print(l[5][11:])\n",
    "print(l[5:3:-1])\n",
    "print(l[2: :-1])\n",
    "print(l[4: :-2])\n",
    "print(l[5:2:-2])\n",
    "print(l[3][5:8])\n",
    "print(l[4][6:9])\n",
    "print(l[5][-1:-5:-1])\n",
    "print(l[3][0:4])\n",
    "print(l[3][0:4:3])\n",
    "print(l[4][6:11:2])\n",
    "print(l[3][5: :2])\n",
    "print(l[3][-1: :-1])\n",
    "\n",
    "\n"
   ]
  },
  {
   "cell_type": "code",
   "execution_count": 2,
   "metadata": {},
   "outputs": [
    {
     "name": "stdout",
     "output_type": "stream",
     "text": [
      "jor\n",
      "will\n",
      "james\n",
      "[40, 200, 300]\n",
      "{'name': 'menson mount', 'age': '24', 'club': 'chelsea'}\n",
      "mount\n",
      "['name', 'age', 'club']\n",
      "chelsea\n",
      "42\n"
     ]
    }
   ],
   "source": [
    "l=[\"jordan\",\"will blake\", [300,200,40,\"james willson\"], {1:{\"name\":\"menson mount\",\"age\":\"24\",\"club\":\"chelsea\"}}]\n",
    "print(l[0][0:3])\n",
    "print(l[1][0:4])\n",
    "print(l[2][3][0:5])\n",
    "print(l[2][2::-1])\n",
    "print(l[3][1])\n",
    "print(l[3][1][\"name\"][7:])\n",
    "print(list(l[3][1]))\n",
    "print(l[3][1][\"club\"])\n",
    "print(l[3][1][\"age\"][::-1])"
   ]
  }
 ],
 "metadata": {
  "kernelspec": {
   "display_name": "Python 3",
   "language": "python",
   "name": "python3"
  },
  "language_info": {
   "codemirror_mode": {
    "name": "ipython",
    "version": 3
   },
   "file_extension": ".py",
   "mimetype": "text/x-python",
   "name": "python",
   "nbconvert_exporter": "python",
   "pygments_lexer": "ipython3",
   "version": "3.12.1"
  }
 },
 "nbformat": 4,
 "nbformat_minor": 2
}
