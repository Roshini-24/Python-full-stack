{
 "cells": [
  {
   "cell_type": "code",
   "execution_count": 6,
   "metadata": {},
   "outputs": [
    {
     "name": "stdout",
     "output_type": "stream",
     "text": [
      "hll wrld\n",
      "eoo\n",
      "12344\n"
     ]
    }
   ],
   "source": [
    "#126\n",
    "n=\"12hello3 4world4\"\n",
    "v=\"aeiou\"\n",
    "vo=\"\"\n",
    "c=\"\"\n",
    "m=\"\"\n",
    "for i in n:\n",
    "    if i in v:\n",
    "        vo=vo+i\n",
    "    elif (i not in v) and not(i>=\"0\" and i<=\"9\"):\n",
    "        c=c+i\n",
    "    elif i>=\"0\" and i<=\"9\":\n",
    "        m=m+i\n",
    "print(c)\n",
    "print(vo)\n",
    "print(m)"
   ]
  },
  {
   "cell_type": "code",
   "execution_count": 10,
   "metadata": {},
   "outputs": [
    {
     "name": "stdout",
     "output_type": "stream",
     "text": [
      "hll world 123 haii\n"
     ]
    }
   ],
   "source": [
    "#124\n",
    "n=\"hello world 123 haii\"\n",
    "v=\"aeiou\"\n",
    "f=0\n",
    "res=\"\"\n",
    "for i in n:\n",
    "    if i in v and f<2:\n",
    "        f=f+1\n",
    "    else:\n",
    "        res=res+i\n",
    "print(res)"
   ]
  },
  {
   "cell_type": "code",
   "execution_count": 7,
   "metadata": {},
   "outputs": [
    {
     "name": "stdout",
     "output_type": "stream",
     "text": [
      "eoo hllwrld 12344 (*$ $#\n"
     ]
    }
   ],
   "source": [
    "#127\n",
    "n=\"(*12hello3$ $4#world4\"\n",
    "v=\"aeiou\"\n",
    "vo=\"\"\n",
    "c=\"\"\n",
    "m=\"\"\n",
    "s=\"\"\n",
    "for i in n:\n",
    "    if i in v:\n",
    "        vo=vo+i\n",
    "    elif (i not in v) and not(i>=\"0\" and i<=\"9\") and (i>=\"a\" and i<=\"z\"):\n",
    "        c=c+i\n",
    "    elif (i>=\"0\" and i<=\"9\"):\n",
    "        m=m+i\n",
    "    else:\n",
    "        s=s+i\n",
    "print(vo,c,m,s)\n",
    "\n"
   ]
  },
  {
   "cell_type": "code",
   "execution_count": 9,
   "metadata": {},
   "outputs": [
    {
     "name": "stdout",
     "output_type": "stream",
     "text": [
      ")*#$ $*(,44321,ooe,dlrwllh\n"
     ]
    }
   ],
   "source": [
    "#128\n",
    "n=\"(*12hello3$ $4#world4*)\"\n",
    "v=\"aeiou\"\n",
    "vo=\"\"\n",
    "c=\"\"\n",
    "m=\"\"\n",
    "s=\"\"\n",
    "for i in n:\n",
    "    if i in v:\n",
    "        vo=vo+i\n",
    "    elif (i not in v) and not(i>=\"0\" and i<=\"9\") and (i>=\"a\" and i<=\"z\"):\n",
    "        c=c+i\n",
    "    elif (i>=\"0\" and i<=\"9\"):\n",
    "        m=m+i\n",
    "    else:\n",
    "        s=s+i\n",
    "print(s[::-1],m[::-1],vo[::-1],c[::-1],sep=\",\")"
   ]
  },
  {
   "cell_type": "code",
   "execution_count": 12,
   "metadata": {},
   "outputs": [
    {
     "name": "stdout",
     "output_type": "stream",
     "text": [
      "hllwrld,eoo,12344,(*$ $#*)\n"
     ]
    }
   ],
   "source": [
    "#129\n",
    "n=\"(*12hello3$ $4#world4*)\"\n",
    "v=\"aeiou\"\n",
    "vo=\"\"\n",
    "c=\"\"\n",
    "m=\"\"\n",
    "s=\"\"\n",
    "for i in n:\n",
    "    if i in v:\n",
    "        vo=vo+i\n",
    "    elif (i not in v) and not(i>=\"0\" and i<=\"9\") and (i>=\"a\" and i<=\"z\"):\n",
    "        c=c+i\n",
    "    elif (i>=\"0\" and i<=\"9\"):\n",
    "        m=m+i\n",
    "    else:\n",
    "        s=s+i\n",
    "print(c,vo,m,s,sep=\",\")"
   ]
  },
  {
   "cell_type": "code",
   "execution_count": 14,
   "metadata": {},
   "outputs": [
    {
     "name": "stdout",
     "output_type": "stream",
     "text": [
      "hllwrld,)*#$ $*(,eoo,12344\n"
     ]
    }
   ],
   "source": [
    "#130\n",
    "n=\"(*12hello3$ $4#world4*)\"\n",
    "v=\"aeiou\"\n",
    "vo=\"\"\n",
    "c=\"\"\n",
    "m=\"\"\n",
    "s=\"\"\n",
    "for i in n:\n",
    "    if i in v:\n",
    "        vo=vo+i\n",
    "    elif (i not in v) and not(i>=\"0\" and i<=\"9\") and (i>=\"a\" and i<=\"z\"):\n",
    "        c=c+i\n",
    "    elif (i>=\"0\" and i<=\"9\"):\n",
    "        m=m+i\n",
    "    else:\n",
    "        s=s+i\n",
    "print(c,s[::-1],vo,m,sep=\",\")"
   ]
  },
  {
   "cell_type": "code",
   "execution_count": 16,
   "metadata": {},
   "outputs": [
    {
     "name": "stdout",
     "output_type": "stream",
     "text": [
      ")*#$ $*(,44321,ooe,dlrwllh\n"
     ]
    }
   ],
   "source": [
    "#131\n",
    "n=\"(*12hello3$ $4#world4*)\"\n",
    "v=\"aeiou\"\n",
    "vo=\"\"\n",
    "c=\"\"\n",
    "m=\"\"\n",
    "s=\"\"\n",
    "for i in n:\n",
    "    if i in v:\n",
    "        vo=vo+i\n",
    "    elif (i not in v) and not(i>=\"0\" and i<=\"9\") and (i>=\"a\" and i<=\"z\"):\n",
    "        c=c+i\n",
    "    elif (i>=\"0\" and i<=\"9\"):\n",
    "        m=m+i\n",
    "    else:\n",
    "        s=s+i\n",
    "print(s[::-1],m[::-1],vo[::-1],c[::-1],sep=\",\")"
   ]
  },
  {
   "cell_type": "code",
   "execution_count": 17,
   "metadata": {},
   "outputs": [
    {
     "name": "stdout",
     "output_type": "stream",
     "text": [
      "dlrwllh)*#$ $*(ooe44321\n"
     ]
    }
   ],
   "source": [
    "#132\n",
    "n=\"(*12hello3$ $4#world4*)\"\n",
    "v=\"aeiou\"\n",
    "vo=\"\"\n",
    "c=\"\"\n",
    "m=\"\"\n",
    "s=\"\"\n",
    "for i in n:\n",
    "    if i in v:\n",
    "        vo=vo+i\n",
    "    elif (i not in v) and not(i>=\"0\" and i<=\"9\") and (i>=\"a\" and i<=\"z\"):\n",
    "        c=c+i\n",
    "    elif (i>=\"0\" and i<=\"9\"):\n",
    "        m=m+i\n",
    "    else:\n",
    "        s=s+i\n",
    "print(c[::-1]+s[::-1]+vo[::-1]+m[::-1])"
   ]
  }
 ],
 "metadata": {
  "kernelspec": {
   "display_name": "Python 3",
   "language": "python",
   "name": "python3"
  },
  "language_info": {
   "codemirror_mode": {
    "name": "ipython",
    "version": 3
   },
   "file_extension": ".py",
   "mimetype": "text/x-python",
   "name": "python",
   "nbconvert_exporter": "python",
   "pygments_lexer": "ipython3",
   "version": "3.12.1"
  }
 },
 "nbformat": 4,
 "nbformat_minor": 2
}
