{
 "cells": [
  {
   "cell_type": "code",
   "execution_count": 6,
   "metadata": {},
   "outputs": [
    {
     "name": "stdout",
     "output_type": "stream",
     "text": [
      "hll wrld\n",
      "eoo\n",
      "12344\n"
     ]
    }
   ],
   "source": [
    "#126\n",
    "n=\"12hello3 4world4\"\n",
    "v=\"aeiou\"\n",
    "vo=\"\"\n",
    "c=\"\"\n",
    "m=\"\"\n",
    "for i in n:\n",
    "    if i in v:\n",
    "        vo=vo+i\n",
    "    elif (i not in v) and not(i>=\"0\" and i<=\"9\"):\n",
    "        c=c+i\n",
    "    elif i>=\"0\" and i<=\"9\":\n",
    "        m=m+i\n",
    "print(c)\n",
    "print(vo)\n",
    "print(m)"
   ]
  },
  {
   "cell_type": "code",
   "execution_count": 18,
   "metadata": {},
   "outputs": [
    {
     "name": "stdout",
     "output_type": "stream",
     "text": [
      "hll world  haii\n"
     ]
    }
   ],
   "source": [
    "#124\n",
    "n=\"hello world 123 haii\"\n",
    "v=\"aeiou\"\n",
    "f=0\n",
    "res=\"\"\n",
    "for i in n:\n",
    "    if (i in v and f<2) or i>=\"0\" and i<=\"9\":\n",
    "        f=f+1\n",
    "    else:\n",
    "        res=res+i\n",
    "print(res)"
   ]
  },
  {
   "cell_type": "code",
   "execution_count": 7,
   "metadata": {},
   "outputs": [
    {
     "name": "stdout",
     "output_type": "stream",
     "text": [
      "eoo hllwrld 12344 (*$ $#\n"
     ]
    }
   ],
   "source": [
    "#127\n",
    "n=\"(*12hello3$ $4#world4\"\n",
    "v=\"aeiou\"\n",
    "vo=\"\"\n",
    "c=\"\"\n",
    "m=\"\"\n",
    "s=\"\"\n",
    "for i in n:\n",
    "    if i in v:\n",
    "        vo=vo+i\n",
    "    elif (i not in v) and not(i>=\"0\" and i<=\"9\") and (i>=\"a\" and i<=\"z\"):\n",
    "        c=c+i\n",
    "    elif (i>=\"0\" and i<=\"9\"):\n",
    "        m=m+i\n",
    "    else:\n",
    "        s=s+i\n",
    "print(vo,c,m,s)\n",
    "\n"
   ]
  },
  {
   "cell_type": "code",
   "execution_count": 9,
   "metadata": {},
   "outputs": [
    {
     "name": "stdout",
     "output_type": "stream",
     "text": [
      ")*#$ $*(,44321,ooe,dlrwllh\n"
     ]
    }
   ],
   "source": [
    "#128\n",
    "n=\"(*12hello3$ $4#world4*)\"\n",
    "v=\"aeiou\"\n",
    "vo=\"\"\n",
    "c=\"\"\n",
    "m=\"\"\n",
    "s=\"\"\n",
    "for i in n:\n",
    "    if i in v:\n",
    "        vo=vo+i\n",
    "    elif (i not in v) and not(i>=\"0\" and i<=\"9\") and (i>=\"a\" and i<=\"z\"):\n",
    "        c=c+i\n",
    "    elif (i>=\"0\" and i<=\"9\"):\n",
    "        m=m+i\n",
    "    else:\n",
    "        s=s+i\n",
    "print(s[::-1],m[::-1],vo[::-1],c[::-1],sep=\",\")"
   ]
  },
  {
   "cell_type": "code",
   "execution_count": 12,
   "metadata": {},
   "outputs": [
    {
     "name": "stdout",
     "output_type": "stream",
     "text": [
      "hllwrld,eoo,12344,(*$ $#*)\n"
     ]
    }
   ],
   "source": [
    "#129\n",
    "n=\"(*12hello3$ $4#world4*)\"\n",
    "v=\"aeiou\"\n",
    "vo=\"\"\n",
    "c=\"\"\n",
    "m=\"\"\n",
    "s=\"\"\n",
    "for i in n:\n",
    "    if i in v:\n",
    "        vo=vo+i\n",
    "    elif (i not in v) and not(i>=\"0\" and i<=\"9\") and (i>=\"a\" and i<=\"z\"):\n",
    "        c=c+i\n",
    "    elif (i>=\"0\" and i<=\"9\"):\n",
    "        m=m+i\n",
    "    else:\n",
    "        s=s+i\n",
    "print(c,vo,m,s,sep=\",\")"
   ]
  },
  {
   "cell_type": "code",
   "execution_count": 14,
   "metadata": {},
   "outputs": [
    {
     "name": "stdout",
     "output_type": "stream",
     "text": [
      "hllwrld,)*#$ $*(,eoo,12344\n"
     ]
    }
   ],
   "source": [
    "#130\n",
    "n=\"(*12hello3$ $4#world4*)\"\n",
    "v=\"aeiou\"\n",
    "vo=\"\"\n",
    "c=\"\"\n",
    "m=\"\"\n",
    "s=\"\"\n",
    "for i in n:\n",
    "    if i in v:\n",
    "        vo=vo+i\n",
    "    elif (i not in v) and not(i>=\"0\" and i<=\"9\") and (i>=\"a\" and i<=\"z\"):\n",
    "        c=c+i\n",
    "    elif (i>=\"0\" and i<=\"9\"):\n",
    "        m=m+i\n",
    "    else:\n",
    "        s=s+i\n",
    "print(c,s[::-1],vo,m,sep=\",\")"
   ]
  },
  {
   "cell_type": "code",
   "execution_count": 16,
   "metadata": {},
   "outputs": [
    {
     "name": "stdout",
     "output_type": "stream",
     "text": [
      ")*#$ $*(,44321,ooe,dlrwllh\n"
     ]
    }
   ],
   "source": [
    "#131\n",
    "n=\"(*12hello3$ $4#world4*)\"\n",
    "v=\"aeiou\"\n",
    "vo=\"\"\n",
    "c=\"\"\n",
    "m=\"\"\n",
    "s=\"\"\n",
    "for i in n:\n",
    "    if i in v:\n",
    "        vo=vo+i\n",
    "    elif (i not in v) and not(i>=\"0\" and i<=\"9\") and (i>=\"a\" and i<=\"z\"):\n",
    "        c=c+i\n",
    "    elif (i>=\"0\" and i<=\"9\"):\n",
    "        m=m+i\n",
    "    else:\n",
    "        s=s+i\n",
    "print(s[::-1],m[::-1],vo[::-1],c[::-1],sep=\",\")"
   ]
  },
  {
   "cell_type": "code",
   "execution_count": 17,
   "metadata": {},
   "outputs": [
    {
     "name": "stdout",
     "output_type": "stream",
     "text": [
      "dlrwllh)*#$ $*(ooe44321\n"
     ]
    }
   ],
   "source": [
    "#132\n",
    "n=\"(*12hello3$ $4#world4*)\"\n",
    "v=\"aeiou\"\n",
    "vo=\"\"\n",
    "c=\"\"\n",
    "m=\"\"\n",
    "s=\"\"\n",
    "for i in n:\n",
    "    if i in v:\n",
    "        vo=vo+i\n",
    "    elif (i not in v) and not(i>=\"0\" and i<=\"9\") and (i>=\"a\" and i<=\"z\"):\n",
    "        c=c+i\n",
    "    elif (i>=\"0\" and i<=\"9\"):\n",
    "        m=m+i\n",
    "    else:\n",
    "        s=s+i\n",
    "print(c[::-1]+s[::-1]+vo[::-1]+m[::-1])"
   ]
  },
  {
   "cell_type": "code",
   "execution_count": 20,
   "metadata": {},
   "outputs": [
    {
     "name": "stdout",
     "output_type": "stream",
     "text": [
      "h$ll*w*rld\n"
     ]
    }
   ],
   "source": [
    "#133\n",
    "n=\"HELLOWORLD\"\n",
    "res=\"\"\n",
    "d={ \"A\":\"#\",\"E\":\"$\",\"I\":\"&\",\"O\":\"*\",\"U\":\"@\"}\n",
    "for i in n:\n",
    "   if i in d:\n",
    "        res=res+d[i]\n",
    "   else:\n",
    "      res=res+chr(ord(i)+32)\n",
    "print(res)"
   ]
  },
  {
   "cell_type": "code",
   "execution_count": null,
   "metadata": {},
   "outputs": [],
   "source": [
    "#134\n",
    "n=\"123HELLO WORLD456\"\n"
   ]
  },
  {
   "cell_type": "code",
   "execution_count": 3,
   "metadata": {},
   "outputs": [
    {
     "name": "stdout",
     "output_type": "stream",
     "text": [
      "123hEllO wOrld456\n"
     ]
    }
   ],
   "source": [
    "#135\n",
    "n=\"123HELLO WORLD456\"\n",
    "v=\"aeiuoAEIOU\"\n",
    "res=\"\"\n",
    "for i in n:\n",
    "    if i not in v and i>=\"A\" and i<=\"Z\":\n",
    "        res=res+chr(ord(i)+32)\n",
    "    else:\n",
    "        res=res+i\n",
    "print(res)\n",
    "        "
   ]
  },
  {
   "cell_type": "code",
   "execution_count": 10,
   "metadata": {},
   "outputs": [
    {
     "name": "stdout",
     "output_type": "stream",
     "text": [
      "hEllO wOrld\n",
      "123456\n",
      "321hEllO wOrld654\n"
     ]
    }
   ],
   "source": [
    "#136\n",
    "n=\"123HELLO WORLD456\"\n",
    "v=\"aeiuoAEIOU\"\n",
    "res=\"\"\n",
    "m=\"\"\n",
    "for i in n:\n",
    "    if i not in v and i>=\"A\" and i<=\"Z\":\n",
    "        res=res+chr(ord(i)+32)\n",
    "    elif i>=\"0\" and i<=\"9\":\n",
    "        m=m+i\n",
    "    else:\n",
    "        res=res+i\n",
    "print(res)\n",
    "print(m)\n",
    "print(m[len(m)//2-1::-1]+res+m[:len(m)//2-1:-1])\n"
   ]
  },
  {
   "cell_type": "code",
   "execution_count": 11,
   "metadata": {},
   "outputs": [
    {
     "name": "stdout",
     "output_type": "stream",
     "text": [
      "*E**O *O***\n",
      "123456\n",
      "321*E**O *O***654\n"
     ]
    }
   ],
   "source": [
    "#137\n",
    "n=\"123HELLO WORLD456\"\n",
    "v=\"aeiuoAEIOU\"\n",
    "res=\"\"\n",
    "m=\"\"\n",
    "for i in n:\n",
    "    if i not in v and i>=\"A\" and i<=\"Z\":\n",
    "        res=res+\"*\"\n",
    "    elif i>=\"0\" and i<=\"9\":\n",
    "        m=m+i\n",
    "    else:\n",
    "        res=res+i\n",
    "print(res)\n",
    "print(m)\n",
    "print(m[len(m)//2-1::-1]+res+m[:len(m)//2-1:-1])"
   ]
  },
  {
   "cell_type": "code",
   "execution_count": 12,
   "metadata": {},
   "outputs": [
    {
     "name": "stdout",
     "output_type": "stream",
     "text": [
      "123*E**O *O***456\n",
      "\n"
     ]
    }
   ],
   "source": [
    "#138\n",
    "n=\"123HELLO WORLD456\"\n",
    "v=\"aeiuoAEIOU\"\n",
    "res=\"\"\n",
    "m=\"\"\n",
    "for i in n:\n",
    "    if i not in v and i>=\"A\" and i<=\"Z\":\n",
    "        res=res+\"*\"\n",
    "    else:\n",
    "        res=res+i\n",
    "print(res)\n",
    "print(m)\n"
   ]
  },
  {
   "cell_type": "markdown",
   "metadata": {},
   "source": [
    "#139 == #133"
   ]
  },
  {
   "cell_type": "code",
   "execution_count": 15,
   "metadata": {},
   "outputs": [
    {
     "name": "stdout",
     "output_type": "stream",
     "text": [
      "axbycz\n"
     ]
    }
   ],
   "source": [
    "#140\n",
    "n=\"abc\"\n",
    "m=\"xyz\"\n",
    "nl=len(n)\n",
    "ml=len(m)\n",
    "res=\"\"\n",
    "g=0\n",
    "if nl>ml:\n",
    "    g=ml\n",
    "else:\n",
    "    g=nl\n",
    "i=0\n",
    "while i<g:\n",
    "    res=res+n[i]+m[i]   \n",
    "    i=i+1\n",
    "if nl>ml:\n",
    "    res=res+n[g:]\n",
    "elif ml>nl:\n",
    "    res=res+m[g:]\n",
    "print(res)\n",
    "\n"
   ]
  },
  {
   "cell_type": "code",
   "execution_count": 16,
   "metadata": {},
   "outputs": [
    {
     "name": "stdout",
     "output_type": "stream",
     "text": [
      "axbyczw\n"
     ]
    }
   ],
   "source": [
    "#141\n",
    "n=\"abc\"\n",
    "m=\"xyzw\"\n",
    "nl=len(n)\n",
    "ml=len(m)\n",
    "res=\"\"\n",
    "g=0\n",
    "if nl>ml:\n",
    "    g=ml\n",
    "else:\n",
    "    g=nl\n",
    "i=0\n",
    "while i<g:\n",
    "    res=res+n[i]+m[i]   \n",
    "    i=i+1\n",
    "if nl>ml:\n",
    "    res=res+n[g:]\n",
    "elif ml>nl:\n",
    "    res=res+m[g:]\n",
    "print(res)"
   ]
  },
  {
   "cell_type": "code",
   "execution_count": 17,
   "metadata": {},
   "outputs": [
    {
     "name": "stdout",
     "output_type": "stream",
     "text": [
      "axbyczd\n"
     ]
    }
   ],
   "source": [
    "#142\n",
    "n=\"abcd\"\n",
    "m=\"xyz\"\n",
    "nl=len(n)\n",
    "ml=len(m)\n",
    "res=\"\"\n",
    "g=0\n",
    "if nl>ml:\n",
    "    g=ml\n",
    "else:\n",
    "    g=nl\n",
    "i=0\n",
    "while i<g:\n",
    "    res=res+n[i]+m[i]   \n",
    "    i=i+1\n",
    "if nl>ml:\n",
    "    res=res+n[g:]\n",
    "elif ml>nl:\n",
    "    res=res+m[g:]\n",
    "print(res)"
   ]
  },
  {
   "cell_type": "code",
   "execution_count": 18,
   "metadata": {},
   "outputs": [
    {
     "name": "stdout",
     "output_type": "stream",
     "text": [
      "axbyczwop\n"
     ]
    }
   ],
   "source": [
    "#143\n",
    "n=\"abc\"\n",
    "m=\"xyzwop\"\n",
    "nl=len(n)\n",
    "ml=len(m)\n",
    "res=\"\"\n",
    "g=0\n",
    "if nl>ml:\n",
    "    g=ml\n",
    "else:\n",
    "    g=nl\n",
    "i=0\n",
    "while i<g:\n",
    "    res=res+n[i]+m[i]   \n",
    "    i=i+1\n",
    "if nl>ml:\n",
    "    res=res+n[g:]\n",
    "elif ml>nl:\n",
    "    res=res+m[g:]\n",
    "print(res)"
   ]
  },
  {
   "cell_type": "code",
   "execution_count": 20,
   "metadata": {},
   "outputs": [
    {
     "name": "stdout",
     "output_type": "stream",
     "text": [
      "a1b2c3\n"
     ]
    }
   ],
   "source": [
    "#144\n",
    "st=\"abc123\"\n",
    "n=\"\"\n",
    "m=\"\"\n",
    "for i in st:\n",
    "    if i>=\"0\" and i<=\"9\":\n",
    "        m=m+i\n",
    "    else:\n",
    "        n=n+i\n",
    "\n",
    "nl=len(n)\n",
    "ml=len(m)\n",
    "res=\"\"\n",
    "g=0\n",
    "if nl>ml:\n",
    "    g=ml\n",
    "else:\n",
    "    g=nl\n",
    "i=0\n",
    "while i<g:\n",
    "    res=res+n[i]+m[i]   \n",
    "    i=i+1\n",
    "if nl>ml:\n",
    "    res=res+n[g:]\n",
    "elif ml>nl:\n",
    "    res=res+m[g:]\n",
    "print(res)"
   ]
  },
  {
   "cell_type": "code",
   "execution_count": 21,
   "metadata": {},
   "outputs": [
    {
     "name": "stdout",
     "output_type": "stream",
     "text": [
      "a1b2c\n"
     ]
    }
   ],
   "source": [
    "#145\n",
    "st=\"abc12\"\n",
    "n=\"\"\n",
    "m=\"\"\n",
    "for i in st:\n",
    "    if i>=\"0\" and i<=\"9\":\n",
    "        m=m+i\n",
    "    else:\n",
    "        n=n+i\n",
    "\n",
    "nl=len(n)\n",
    "ml=len(m)\n",
    "res=\"\"\n",
    "g=0\n",
    "if nl>ml:\n",
    "    g=ml\n",
    "else:\n",
    "    g=nl\n",
    "i=0\n",
    "while i<g:\n",
    "    res=res+n[i]+m[i]   \n",
    "    i=i+1\n",
    "if nl>ml:\n",
    "    res=res+n[g:]\n",
    "elif ml>nl:\n",
    "    res=res+m[g:]\n",
    "print(res)"
   ]
  },
  {
   "cell_type": "code",
   "execution_count": 22,
   "metadata": {},
   "outputs": [
    {
     "name": "stdout",
     "output_type": "stream",
     "text": [
      "a1b2c34\n"
     ]
    }
   ],
   "source": [
    "#146\n",
    "st=\"abc1234\"\n",
    "n=\"\"\n",
    "m=\"\"\n",
    "for i in st:\n",
    "    if i>=\"0\" and i<=\"9\":\n",
    "        m=m+i\n",
    "    else:\n",
    "        n=n+i\n",
    "\n",
    "nl=len(n)\n",
    "ml=len(m)\n",
    "res=\"\"\n",
    "g=0\n",
    "if nl>ml:\n",
    "    g=ml\n",
    "else:\n",
    "    g=nl\n",
    "i=0\n",
    "while i<g:\n",
    "    res=res+n[i]+m[i]   \n",
    "    i=i+1\n",
    "if nl>ml:\n",
    "    res=res+n[g:]\n",
    "elif ml>nl:\n",
    "    res=res+m[g:]\n",
    "print(res)"
   ]
  },
  {
   "cell_type": "code",
   "execution_count": 23,
   "metadata": {},
   "outputs": [
    {
     "name": "stdout",
     "output_type": "stream",
     "text": [
      "a1b2c34\n"
     ]
    }
   ],
   "source": [
    "#147\n",
    "st=\"1a2bc34\"\n",
    "n=\"\"\n",
    "m=\"\"\n",
    "for i in st:\n",
    "    if i>=\"0\" and i<=\"9\":\n",
    "        m=m+i\n",
    "    else:\n",
    "        n=n+i\n",
    "\n",
    "nl=len(n)\n",
    "ml=len(m)\n",
    "res=\"\"\n",
    "g=0\n",
    "if nl>ml:\n",
    "    g=ml\n",
    "else:\n",
    "    g=nl\n",
    "i=0\n",
    "while i<g:\n",
    "    res=res+n[i]+m[i]   \n",
    "    i=i+1\n",
    "if nl>ml:\n",
    "    res=res+n[g:]\n",
    "elif ml>nl:\n",
    "    res=res+m[g:]\n",
    "print(res)"
   ]
  },
  {
   "cell_type": "code",
   "execution_count": 24,
   "metadata": {},
   "outputs": [
    {
     "name": "stdout",
     "output_type": "stream",
     "text": [
      "3\n"
     ]
    }
   ],
   "source": [
    "#148\n",
    "n=\"abcdnmpoijkl12yzabcd5\"\n",
    "c=0\n",
    "for i in n:\n",
    "    if i>=\"0\" and i<=\"9\":\n",
    "        c=c+1\n",
    "print(c)"
   ]
  },
  {
   "cell_type": "code",
   "execution_count": 25,
   "metadata": {},
   "outputs": [
    {
     "name": "stdout",
     "output_type": "stream",
     "text": [
      "HA1I2I3 HE4LLO5\n"
     ]
    }
   ],
   "source": [
    "#149\n",
    "n=\"HAII HELLO\"\n",
    "v=\"AEIOU\"\n",
    "c=0\n",
    "res=\"\"\n",
    "for i in n:\n",
    "    if i in v:\n",
    "        c=c+1\n",
    "        res=res+i+str(c)\n",
    "    else:\n",
    "        res=res+i\n",
    "print(res)"
   ]
  },
  {
   "cell_type": "code",
   "execution_count": 26,
   "metadata": {},
   "outputs": [
    {
     "name": "stdout",
     "output_type": "stream",
     "text": [
      "H1AII 2H3EL4L5O\n"
     ]
    }
   ],
   "source": [
    "#150\n",
    "n=\"HAII HELLO\"\n",
    "v=\"AEIOU\"\n",
    "c=0\n",
    "res=\"\"\n",
    "for i in n:\n",
    "    if i not in v:\n",
    "        c=c+1\n",
    "        res=res+i+str(c)\n",
    "    elif i in v:\n",
    "        res=res+i\n",
    "print(res)"
   ]
  }
 ],
 "metadata": {
  "kernelspec": {
   "display_name": "Python 3",
   "language": "python",
   "name": "python3"
  },
  "language_info": {
   "codemirror_mode": {
    "name": "ipython",
    "version": 3
   },
   "file_extension": ".py",
   "mimetype": "text/x-python",
   "name": "python",
   "nbconvert_exporter": "python",
   "pygments_lexer": "ipython3",
   "version": "3.12.1"
  }
 },
 "nbformat": 4,
 "nbformat_minor": 2
}
